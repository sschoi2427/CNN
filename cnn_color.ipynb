{
  "nbformat": 4,
  "nbformat_minor": 0,
  "metadata": {
    "anaconda-cloud": {},
    "kernelspec": {
      "name": "python3",
      "display_name": "Python 3"
    },
    "language_info": {
      "codemirror_mode": {
        "name": "ipython",
        "version": 3
      },
      "file_extension": ".py",
      "mimetype": "text/x-python",
      "name": "python",
      "nbconvert_exporter": "python",
      "pygments_lexer": "ipython3",
      "version": "3.7.1"
    },
    "colab": {
      "name": "cnn.ipynb",
      "provenance": [],
      "collapsed_sections": []
    },
    "accelerator": "GPU"
  },
  "cells": [
    {
      "cell_type": "code",
      "metadata": {
        "id": "tp0C87iqi9Wi",
        "colab_type": "code",
        "colab": {
          "base_uri": "https://localhost:8080/",
          "height": 71
        },
        "outputId": "3de317d1-983b-407f-e8e5-3cf19a234318"
      },
      "source": [
        "import warnings\n",
        "warnings.simplefilter(action='ignore', category=FutureWarning)\n",
        "import random\n",
        "import sys\n",
        "import tensorflow as tf\n",
        "from tensorflow.keras.models import Sequential\n",
        "from tensorflow.keras.layers import Dense, Dropout, Flatten, BatchNormalization, Activation\n",
        "from tensorflow.keras.layers import Conv2D, MaxPooling2D\n",
        "import numpy as np\n",
        "\n",
        "# np.random.seed(7)\n",
        "\n",
        "# import keras\n",
        "# from keras.models import Sequential\n",
        "# from keras.layers import Dense, Dropout, Flatten\n",
        "# from keras.layers.convolutional import Conv2D, MaxPooling2D\n",
        "# print('Keras version : ', keras.__version__)\n",
        "\n",
        "print('Python version : ', sys.version)\n",
        "print('TensorFlow version : ', tf.__version__)\n"
      ],
      "execution_count": 49,
      "outputs": [
        {
          "output_type": "stream",
          "text": [
            "Python version :  3.6.8 (default, Jan 14 2019, 11:02:34) \n",
            "[GCC 8.0.1 20180414 (experimental) [trunk revision 259383]]\n",
            "TensorFlow version :  1.14.0\n"
          ],
          "name": "stdout"
        }
      ]
    },
    {
      "cell_type": "code",
      "metadata": {
        "id": "dGcBeyA2i9Wl",
        "colab_type": "code",
        "colab": {
          "base_uri": "https://localhost:8080/",
          "height": 107
        },
        "outputId": "846420be-dde3-45dd-dd6d-f02910b235c5"
      },
      "source": [
        "img_rows = 32\n",
        "img_cols = 32 # 이미지 사이즈 설정\n",
        "\n",
        "#https://www.cs.toronto.edu/~kriz/cifar.html\n",
        "(x_train, y_train), (x_test, y_test) = tf.keras.datasets.cifar10.load_data() # mnist cifar10\n",
        "\n",
        "input_shape = (img_rows, img_cols, 3)   #이미지 shape 설정 : 가로, 세로, 채널(흑백 -> 1, 컬러RGB -> 3)\n",
        "\n",
        "print(x_train.shape[0])\n",
        "print(x_test.shape[0])\n",
        "#train -> 5만개\n",
        "#test -> 1만개\n",
        "\n",
        "x_train = x_train.reshape(x_train.shape[0], img_rows, img_cols, 3)   # (50000, row, col, 3) (이미지개수, 가로, 세로, 색상)\n",
        "x_test = x_test.reshape(x_test.shape[0], img_rows, img_cols, 3)\n",
        "\n",
        "# print(x_train[0])\n",
        "\n",
        "x_train = x_train.astype('float32')/255.0  # 픽셀은 0에서 255의 값을 가지고 있음\n",
        "x_test = x_test.astype('float32')/255.0    #소숫점 255로 나눠주면 계산이 용이해짐\n",
        "\n",
        "\n",
        "# print(x_train[0])\n",
        "\n",
        "\n",
        "print('x_train shape:', x_train.shape)\n",
        "print(x_train.shape[0], 'train samples')\n",
        "print(x_test.shape[0], 'test samples')\n",
        "\n",
        "\n",
        "\n",
        "\n",
        "\n",
        "\n",
        "num_classes = 10\n",
        "\n",
        "y_train = tf.keras.utils.to_categorical(y_train, num_classes) #0에서부터 9까지의 카테고리를 정리해줌\n",
        "y_test = tf.keras.utils.to_categorical(y_test, num_classes)"
      ],
      "execution_count": 8,
      "outputs": [
        {
          "output_type": "stream",
          "text": [
            "50000\n",
            "10000\n",
            "x_train shape: (50000, 32, 32, 3)\n",
            "50000 train samples\n",
            "10000 test samples\n"
          ],
          "name": "stdout"
        }
      ]
    },
    {
      "cell_type": "code",
      "metadata": {
        "id": "8uWEbNChi9Wn",
        "colab_type": "code",
        "colab": {
          "base_uri": "https://localhost:8080/",
          "height": 737
        },
        "outputId": "688ab7ee-b015-46b8-b27a-87ef6f5cb7fc"
      },
      "source": [
        "\n",
        "batch_size = 128\n",
        "\n",
        "\n",
        "model = Sequential() #차례대로 넣는다\n",
        "\n",
        "model.add(Conv2D(32, kernel_size=(3, 3), strides=(1, 1), padding='same', # 히든레이어32개, 5x5사이즈 stride 1x1, 패딩있음\n",
        "                  activation='relu', # relu함수\n",
        "                  input_shape=input_shape)) #콘볼루션 실행\n",
        "model.add(Activation('elu')) #지수 선형 활성화 https://keras.io/activations/\n",
        "model.add(BatchNormalization()) #평균 활성화를 0에 가깝게 유지하고 활성화 표준 편차를 1에 가깝게 유지하는 변환을 적용. 드롭아웃의 역할도 함.\n",
        "\n",
        "model.add(Conv2D(32, (3, 3), activation='relu', padding='same')) \n",
        "model.add(BatchNormalization())\n",
        "model.add(MaxPooling2D(pool_size=(2, 2), strides=(1, 1)))\n",
        "model.add(Dropout(0.2))\n",
        "\n",
        "\n",
        "model.add(Conv2D(64, (3, 3), activation='relu', padding='same'))\n",
        "model.add(Activation('elu'))\n",
        "model.add(BatchNormalization())\n",
        "\n",
        "model.add(Conv2D(64, (3, 3), activation='relu', padding='same')) \n",
        "model.add(BatchNormalization())\n",
        "model.add(MaxPooling2D(pool_size=(2, 2), strides=(1, 1)))\n",
        "model.add(Dropout(0.3))\n",
        "\n",
        "\n",
        "model.add(Flatten())\n",
        "#model.add(Dense(256, activation='relu')) # 뉴런의수\n",
        "model.add(Dense(num_classes, activation='softmax'))\n",
        "\n",
        "model.summary()\n",
        "\n",
        "#용어사전\n",
        "#https://appliedmachinelearning.blog/2018/03/24/achieving-90-accuracy-in-object-recognition-task-on-cifar-10-dataset-with-keras-convolutional-neural-networks/\n",
        "\n",
        "#GPU변경\n",
        "#https://colab.research.google.com/notebooks/welcome.ipynb"
      ],
      "execution_count": 18,
      "outputs": [
        {
          "output_type": "stream",
          "text": [
            "Model: \"sequential_3\"\n",
            "_________________________________________________________________\n",
            "Layer (type)                 Output Shape              Param #   \n",
            "=================================================================\n",
            "conv2d_12 (Conv2D)           (None, 32, 32, 32)        896       \n",
            "_________________________________________________________________\n",
            "activation_10 (Activation)   (None, 32, 32, 32)        0         \n",
            "_________________________________________________________________\n",
            "batch_normalization_12 (Batc (None, 32, 32, 32)        128       \n",
            "_________________________________________________________________\n",
            "conv2d_13 (Conv2D)           (None, 32, 32, 32)        9248      \n",
            "_________________________________________________________________\n",
            "batch_normalization_13 (Batc (None, 32, 32, 32)        128       \n",
            "_________________________________________________________________\n",
            "max_pooling2d_6 (MaxPooling2 (None, 31, 31, 32)        0         \n",
            "_________________________________________________________________\n",
            "dropout_6 (Dropout)          (None, 31, 31, 32)        0         \n",
            "_________________________________________________________________\n",
            "conv2d_14 (Conv2D)           (None, 31, 31, 64)        18496     \n",
            "_________________________________________________________________\n",
            "activation_11 (Activation)   (None, 31, 31, 64)        0         \n",
            "_________________________________________________________________\n",
            "batch_normalization_14 (Batc (None, 31, 31, 64)        256       \n",
            "_________________________________________________________________\n",
            "conv2d_15 (Conv2D)           (None, 31, 31, 64)        36928     \n",
            "_________________________________________________________________\n",
            "batch_normalization_15 (Batc (None, 31, 31, 64)        256       \n",
            "_________________________________________________________________\n",
            "max_pooling2d_7 (MaxPooling2 (None, 30, 30, 64)        0         \n",
            "_________________________________________________________________\n",
            "dropout_7 (Dropout)          (None, 30, 30, 64)        0         \n",
            "_________________________________________________________________\n",
            "flatten_3 (Flatten)          (None, 57600)             0         \n",
            "_________________________________________________________________\n",
            "dense_3 (Dense)              (None, 10)                576010    \n",
            "=================================================================\n",
            "Total params: 642,346\n",
            "Trainable params: 641,962\n",
            "Non-trainable params: 384\n",
            "_________________________________________________________________\n"
          ],
          "name": "stdout"
        }
      ]
    },
    {
      "cell_type": "code",
      "metadata": {
        "id": "UTuaR7TYi9Wp",
        "colab_type": "code",
        "colab": {
          "base_uri": "https://localhost:8080/",
          "height": 485
        },
        "outputId": "b8d6d100-7f37-4e68-96e3-9cc6de0a0b3b"
      },
      "source": [
        "epochs = 12 # 학습을 몇 번 할 것 인가?\n",
        "print(\">>>> 학습횟수 :\", epochs, \"회\")\n",
        "\n",
        "model.compile(loss='categorical_crossentropy', optimizer='adam', metrics=['accuracy'])\n",
        "hist = model.fit(x_train, y_train,\n",
        "                 batch_size=batch_size,\n",
        "                 epochs=epochs,\n",
        "                 verbose=1, \n",
        "                 validation_data=(x_test, y_test)) #학습이 잘 되었는지 검증하는 것, 학습이 개선되고 있으면 loss가 떨어짐"
      ],
      "execution_count": 19,
      "outputs": [
        {
          "output_type": "stream",
          "text": [
            ">>>> 학습횟수 : 12 회\n",
            "Train on 50000 samples, validate on 10000 samples\n",
            "Epoch 1/12\n",
            "50000/50000 [==============================] - 17s 347us/sample - loss: 5.0455 - acc: 0.4173 - val_loss: 5.6388 - val_acc: 0.1654\n",
            "Epoch 2/12\n",
            "50000/50000 [==============================] - 17s 335us/sample - loss: 2.1171 - acc: 0.5621 - val_loss: 1.9174 - val_acc: 0.4929\n",
            "Epoch 3/12\n",
            "50000/50000 [==============================] - 17s 335us/sample - loss: 1.6040 - acc: 0.6344 - val_loss: 1.3269 - val_acc: 0.6189\n",
            "Epoch 4/12\n",
            "50000/50000 [==============================] - 17s 335us/sample - loss: 1.4052 - acc: 0.6693 - val_loss: 1.1135 - val_acc: 0.6584\n",
            "Epoch 5/12\n",
            "50000/50000 [==============================] - 17s 334us/sample - loss: 1.0896 - acc: 0.7118 - val_loss: 1.3552 - val_acc: 0.6524\n",
            "Epoch 6/12\n",
            "50000/50000 [==============================] - 17s 335us/sample - loss: 0.9723 - acc: 0.7262 - val_loss: 0.9283 - val_acc: 0.6965\n",
            "Epoch 7/12\n",
            "50000/50000 [==============================] - 17s 335us/sample - loss: 0.7893 - acc: 0.7573 - val_loss: 0.9190 - val_acc: 0.7218\n",
            "Epoch 8/12\n",
            "50000/50000 [==============================] - 17s 335us/sample - loss: 0.6640 - acc: 0.7844 - val_loss: 0.9164 - val_acc: 0.7127\n",
            "Epoch 9/12\n",
            "50000/50000 [==============================] - 17s 335us/sample - loss: 0.5853 - acc: 0.8026 - val_loss: 0.8786 - val_acc: 0.7259\n",
            "Epoch 10/12\n",
            "50000/50000 [==============================] - 17s 335us/sample - loss: 0.5304 - acc: 0.8172 - val_loss: 0.8651 - val_acc: 0.7270\n",
            "Epoch 11/12\n",
            "50000/50000 [==============================] - 17s 335us/sample - loss: 0.4660 - acc: 0.8368 - val_loss: 0.9133 - val_acc: 0.7186\n",
            "Epoch 12/12\n",
            "50000/50000 [==============================] - 17s 335us/sample - loss: 0.4155 - acc: 0.8532 - val_loss: 0.9431 - val_acc: 0.7157\n"
          ],
          "name": "stdout"
        }
      ]
    },
    {
      "cell_type": "code",
      "metadata": {
        "id": "ydqJMtp8i9Wq",
        "colab_type": "code",
        "colab": {
          "base_uri": "https://localhost:8080/",
          "height": 53
        },
        "outputId": "fbaf5373-8963-4798-b726-0095fea07cf8"
      },
      "source": [
        "score = model.evaluate(x_test, y_test, verbose=0)\n",
        "print('Test loss:', score[0])\n",
        "print('Test accuracy:', score[1]) #10000장의 테스트 중 9905장이 정확함\n",
        "# 이미지파일, 모델 변경해서 0.7이상 만들어오기"
      ],
      "execution_count": 20,
      "outputs": [
        {
          "output_type": "stream",
          "text": [
            "Test loss: 0.943070507144928\n",
            "Test accuracy: 0.7157\n"
          ],
          "name": "stdout"
        }
      ]
    },
    {
      "cell_type": "code",
      "metadata": {
        "id": "sZImk7m-i9Ws",
        "colab_type": "code",
        "colab": {
          "base_uri": "https://localhost:8080/",
          "height": 343
        },
        "outputId": "1f465332-d8e3-4168-8b84-a0671da3cd36"
      },
      "source": [
        "\n",
        "\n",
        "print (random.__file__)\n",
        "\n",
        "import matplotlib.pylab as plt\n",
        "\n",
        "predicted_result = model.predict(x_test)\n",
        "predicted_labels = np.argmax(predicted_result, axis=1)\n",
        "\n",
        "test_labels = np.argmax(y_test, axis=1)\n",
        "\n",
        "wrong_result = []\n",
        "\n",
        "for n in range(0, len(test_labels)):\n",
        "    if predicted_labels[n] != test_labels[n]:\n",
        "        wrong_result.append(n)\n",
        "\n",
        "wr_samples = random.choices(population=wrong_result, k=4)\n",
        "\n",
        "count = 0\n",
        "nrows = ncols = 9\n",
        "\n",
        "plt.figure(figsize=(32,32))\n",
        "\n",
        "\n",
        "\n",
        "for n in wr_samples :\n",
        "    count += 1\n",
        "    plt.subplot(nrows, ncols, count)\n",
        "    plt.imshow(x_test[n], interpolation='nearest')\n",
        "    tmp = \"Label:\" + str(test_labels[n]) + \", Prediction:\" + str(predicted_labels[n])\n",
        "    plt.title(tmp)\n",
        "\n",
        "print(\"잘못 학습된 샘플 4가지\")\n",
        "\n",
        "plt.tight_layout()\n",
        "plt.show()\n",
        "\n",
        "print(\"labels = [0='airplane', 1='automobile', 2='bird', 3='cat', 4='deer', 5='dog', 6='frog', 7'horse', 8='ship', 9='truck']\")"
      ],
      "execution_count": 42,
      "outputs": [
        {
          "output_type": "stream",
          "text": [
            "/usr/lib/python3.6/random.py\n",
            "잘못 학습된 샘플 4가지\n"
          ],
          "name": "stdout"
        },
        {
          "output_type": "display_data",
          "data": {
            "image/png": "[encoded data removed]",
            "text/plain": [
              "<Figure size 2304x2304 with 4 Axes>"
            ]
          },
          "metadata": {
            "tags": []
          }
        },
        {
          "output_type": "stream",
          "text": [
            "labels = [0='airplane', 1='automobile', 2='bird', 3='cat', 4='deer', 5='dog', 6='frog', 7'horse', 8='ship', 9='truck']\n"
          ],
          "name": "stdout"
        }
      ]
    },
    {
      "cell_type": "code",
      "metadata": {
        "id": "Ege3NqiYi9Wt",
        "colab_type": "code",
        "colab": {
          "base_uri": "https://localhost:8080/",
          "height": 305
        },
        "outputId": "5a410e18-2ba6-47ec-c056-018d0b4cbcbd"
      },
      "source": [
        "import matplotlib.pylab as plt\n",
        "n = 0\n",
        "plt.imshow(x_test[n], interpolation='nearest')\n",
        "plt.show()\n",
        "\n",
        "print('The Answer is ', model.predict_classes(x_test[n].reshape((1, 32, 32, 3))))\n",
        "print(\"labels = [0='airplane', 1='automobile', 2='bird', 3='cat', 4='deer', 5='dog', 6='frog', 7'horse', 8='ship', 9='truck']\")"
      ],
      "execution_count": 48,
      "outputs": [
        {
          "output_type": "display_data",
          "data": {
            "image/png": "[encoded data removed]",
            "text/plain": [
              "<Figure size 432x288 with 1 Axes>"
            ]
          },
          "metadata": {
            "tags": []
          }
        },
        {
          "output_type": "stream",
          "text": [
            "The Answer is  [3]\n",
            "labels = [0='airplane', 1='automobile', 2='bird', 3='cat', 4='deer', 5='dog', 6='frog', 7'horse', 8='ship', 9='truck']\n"
          ],
          "name": "stdout"
        }
      ]
    },
    {
      "cell_type": "code",
      "metadata": {
        "id": "HeqwCMkVi9Wv",
        "colab_type": "code",
        "colab": {}
      },
      "source": [
        ""
      ],
      "execution_count": 0,
      "outputs": []
    }
  ]
}